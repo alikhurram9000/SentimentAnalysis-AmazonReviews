{
  "nbformat": 4,
  "nbformat_minor": 0,
  "metadata": {
    "colab": {
      "name": "NLP Project - Final",
      "provenance": []
    },
    "kernelspec": {
      "display_name": "Python 3",
      "language": "python",
      "name": "python3"
    },
    "language_info": {
      "codemirror_mode": {
        "name": "ipython",
        "version": 3
      },
      "file_extension": ".py",
      "mimetype": "text/x-python",
      "name": "python",
      "nbconvert_exporter": "python",
      "pygments_lexer": "ipython3",
      "version": "3.7.10"
    },
    "accelerator": "GPU"
  },
  "cells": [
    {
      "cell_type": "code",
      "metadata": {
        "colab": {
          "base_uri": "https://localhost:8080/"
        },
        "id": "vYgCIuOSDJnL",
        "outputId": "e7208a77-1ef7-4479-ab70-fa782851949b"
      },
      "source": [
        "import numpy as np # linear algebra\n",
        "import pandas as pd # data processing, CSV file I/O (e.g. pd.read_csv)\n",
        "\n",
        "import os\n",
        "from google.colab import drive\n",
        "drive.mount('/content/drive')"
      ],
      "execution_count": 1,
      "outputs": [
        {
          "output_type": "stream",
          "text": [
            "Drive already mounted at /content/drive; to attempt to forcibly remount, call drive.mount(\"/content/drive\", force_remount=True).\n"
          ],
          "name": "stdout"
        }
      ]
    },
    {
      "cell_type": "code",
      "metadata": {
        "id": "-L_DYwq4DJnN"
      },
      "source": [
        "import bz2"
      ],
      "execution_count": 2,
      "outputs": []
    },
    {
      "cell_type": "code",
      "metadata": {
        "id": "KzqsZQIsDJnN"
      },
      "source": [
        "def labels_text(x):\n",
        "  label=[]\n",
        "  text=[]\n",
        "  for line in bz2.BZ2File(x):\n",
        "    decode = line.decode(\"utf-8\")\n",
        "    label.append(int(decode[9]) - 1)\n",
        "    text.append(decode[10:].strip())\n",
        "  return np.array(label),text\n",
        "\n",
        "#Reading the datasets\n",
        "\n",
        "train_label, train_text = labels_text('drive/MyDrive/NLP-Project/amazonreviews/train.ft.txt.bz2')\n",
        "test_label, test_text = labels_text('drive/MyDrive/NLP-Project/amazonreviews/test.ft.txt.bz2')"
      ],
      "execution_count": 3,
      "outputs": []
    },
    {
      "cell_type": "code",
      "metadata": {
        "id": "1U0R1OfYDJnO"
      },
      "source": [
        "#Shuffling the dataset as we will use a part of it\n",
        "from sklearn.utils import shuffle\n",
        "train_text, train_label = shuffle(train_text, train_label)\n",
        "test_text, test_label = shuffle(test_text, test_label)"
      ],
      "execution_count": 4,
      "outputs": []
    },
    {
      "cell_type": "code",
      "metadata": {
        "colab": {
          "base_uri": "https://localhost:8080/",
          "height": 37
        },
        "id": "ZXcZiY0UDJnO",
        "outputId": "25630d72-3dfa-43af-b977-de7e7e96bf13"
      },
      "source": [
        "train_text[0]"
      ],
      "execution_count": 5,
      "outputs": [
        {
          "output_type": "execute_result",
          "data": {
            "application/vnd.google.colaboratory.intrinsic+json": {
              "type": "string"
            },
            "text/plain": [
              "'Informative: Lee Strobel presented a compelling case for the historical and logical foundation of Christianity.'"
            ]
          },
          "metadata": {
            "tags": []
          },
          "execution_count": 5
        }
      ]
    },
    {
      "cell_type": "code",
      "metadata": {
        "colab": {
          "base_uri": "https://localhost:8080/"
        },
        "id": "e7y80rW2DJnO",
        "outputId": "b425ad87-49e0-46c5-f4b0-3af1f9b449d9"
      },
      "source": [
        "train_label[0]"
      ],
      "execution_count": 6,
      "outputs": [
        {
          "output_type": "execute_result",
          "data": {
            "text/plain": [
              "1"
            ]
          },
          "metadata": {
            "tags": []
          },
          "execution_count": 6
        }
      ]
    },
    {
      "cell_type": "code",
      "metadata": {
        "colab": {
          "base_uri": "https://localhost:8080/"
        },
        "id": "X6agIJx_DJnP",
        "outputId": "14143a21-43f5-4cb6-bf57-020cb98b71f4"
      },
      "source": [
        "len(train_text)"
      ],
      "execution_count": 7,
      "outputs": [
        {
          "output_type": "execute_result",
          "data": {
            "text/plain": [
              "3600000"
            ]
          },
          "metadata": {
            "tags": []
          },
          "execution_count": 7
        }
      ]
    },
    {
      "cell_type": "code",
      "metadata": {
        "colab": {
          "base_uri": "https://localhost:8080/"
        },
        "id": "QWRrVEuJDJnP",
        "outputId": "bc88c514-82ae-44a6-9951-9aa98fe8bfe5"
      },
      "source": [
        "len(test_text)"
      ],
      "execution_count": 8,
      "outputs": [
        {
          "output_type": "execute_result",
          "data": {
            "text/plain": [
              "400000"
            ]
          },
          "metadata": {
            "tags": []
          },
          "execution_count": 8
        }
      ]
    },
    {
      "cell_type": "code",
      "metadata": {
        "id": "-A8MhDOaDJnQ"
      },
      "source": [
        "#10000 reviews for training\n",
        "train_text=train_text[0:10000]\n",
        "train_label=train_label[0:10000]"
      ],
      "execution_count": 9,
      "outputs": []
    },
    {
      "cell_type": "code",
      "metadata": {
        "id": "GBO5Q1onDJnQ"
      },
      "source": [
        "#2500 reviews for testing\n",
        "test_text=test_text[0:2500]\n",
        "test_label=test_label[0:2500]"
      ],
      "execution_count": 10,
      "outputs": []
    },
    {
      "cell_type": "code",
      "metadata": {
        "colab": {
          "base_uri": "https://localhost:8080/"
        },
        "id": "TNYYNgBKIkeb",
        "outputId": "01700084-b204-49a2-99b3-45854ff093fd"
      },
      "source": [
        "!sudo apt-get install swig"
      ],
      "execution_count": 11,
      "outputs": [
        {
          "output_type": "stream",
          "text": [
            "Reading package lists... Done\n",
            "Building dependency tree       \n",
            "Reading state information... Done\n",
            "swig is already the newest version (3.0.12-1).\n",
            "0 upgraded, 0 newly installed, 0 to remove and 39 not upgraded.\n"
          ],
          "name": "stdout"
        }
      ]
    },
    {
      "cell_type": "code",
      "metadata": {
        "colab": {
          "base_uri": "https://localhost:8080/"
        },
        "id": "JRN4OvoKInQ2",
        "outputId": "24cdf952-0bb4-4dcb-a460-fa04d9273cee"
      },
      "source": [
        "!sudo pip install jamspell"
      ],
      "execution_count": 12,
      "outputs": [
        {
          "output_type": "stream",
          "text": [
            "Requirement already satisfied: jamspell in /usr/local/lib/python3.7/dist-packages (0.0.12)\n"
          ],
          "name": "stdout"
        }
      ]
    },
    {
      "cell_type": "code",
      "metadata": {
        "colab": {
          "base_uri": "https://localhost:8080/"
        },
        "id": "xYyWcZGcIqYv",
        "outputId": "458bdcb5-bd7d-4813-a06c-8969f7e18882"
      },
      "source": [
        "!wget https://github.com/bakwc/JamSpell-models/raw/master/en.tar.gz"
      ],
      "execution_count": 13,
      "outputs": [
        {
          "output_type": "stream",
          "text": [
            "--2021-06-14 08:45:53--  https://github.com/bakwc/JamSpell-models/raw/master/en.tar.gz\n",
            "Resolving github.com (github.com)... 140.82.113.4\n",
            "Connecting to github.com (github.com)|140.82.113.4|:443... connected.\n",
            "HTTP request sent, awaiting response... 302 Found\n",
            "Location: https://raw.githubusercontent.com/bakwc/JamSpell-models/master/en.tar.gz [following]\n",
            "--2021-06-14 08:45:53--  https://raw.githubusercontent.com/bakwc/JamSpell-models/master/en.tar.gz\n",
            "Resolving raw.githubusercontent.com (raw.githubusercontent.com)... 185.199.108.133, 185.199.109.133, 185.199.110.133, ...\n",
            "Connecting to raw.githubusercontent.com (raw.githubusercontent.com)|185.199.108.133|:443... connected.\n",
            "HTTP request sent, awaiting response... 200 OK\n",
            "Length: 36611828 (35M) [application/octet-stream]\n",
            "Saving to: ‘en.tar.gz.2’\n",
            "\n",
            "en.tar.gz.2         100%[===================>]  34.92M  33.6MB/s    in 1.0s    \n",
            "\n",
            "2021-06-14 08:45:55 (33.6 MB/s) - ‘en.tar.gz.2’ saved [36611828/36611828]\n",
            "\n"
          ],
          "name": "stdout"
        }
      ]
    },
    {
      "cell_type": "code",
      "metadata": {
        "colab": {
          "base_uri": "https://localhost:8080/"
        },
        "id": "xkGpZBk6Ir9r",
        "outputId": "49c8f11a-083c-420d-ab9c-f12610e571d7"
      },
      "source": [
        "!tar -xvf en.tar.gz"
      ],
      "execution_count": 14,
      "outputs": [
        {
          "output_type": "stream",
          "text": [
            "en.bin\n"
          ],
          "name": "stdout"
        }
      ]
    },
    {
      "cell_type": "code",
      "metadata": {
        "id": "A9IOaAupIvpj"
      },
      "source": [
        "#For spelling correction with context\n",
        "import jamspell"
      ],
      "execution_count": 15,
      "outputs": []
    },
    {
      "cell_type": "code",
      "metadata": {
        "id": "jXcBCl3nI0BF"
      },
      "source": [
        "#initializing spelling corrector\n",
        "jsp = jamspell.TSpellCorrector()\n",
        "assert jsp.LoadLangModel('en.bin')"
      ],
      "execution_count": 16,
      "outputs": []
    },
    {
      "cell_type": "code",
      "metadata": {
        "colab": {
          "base_uri": "https://localhost:8080/",
          "height": 37
        },
        "id": "zhIL6Cwaqf0_",
        "outputId": "8a85023e-5837-4db3-c1e3-f95f6064b9e9"
      },
      "source": [
        "jsp.FixFragment(\"Everyone just wants pece in their life\")"
      ],
      "execution_count": 17,
      "outputs": [
        {
          "output_type": "execute_result",
          "data": {
            "application/vnd.google.colaboratory.intrinsic+json": {
              "type": "string"
            },
            "text/plain": [
              "'Everyone just wants peace in their life'"
            ]
          },
          "metadata": {
            "tags": []
          },
          "execution_count": 17
        }
      ]
    },
    {
      "cell_type": "code",
      "metadata": {
        "colab": {
          "base_uri": "https://localhost:8080/",
          "height": 37
        },
        "id": "nKbv6G-htJIs",
        "outputId": "5ec4e5a6-612d-486a-c06e-7aab0c4e69b7"
      },
      "source": [
        "jsp.FixFragment(\"I ate a pece of chicken\")"
      ],
      "execution_count": 18,
      "outputs": [
        {
          "output_type": "execute_result",
          "data": {
            "application/vnd.google.colaboratory.intrinsic+json": {
              "type": "string"
            },
            "text/plain": [
              "'I ate a piece of chicken'"
            ]
          },
          "metadata": {
            "tags": []
          },
          "execution_count": 18
        }
      ]
    },
    {
      "cell_type": "code",
      "metadata": {
        "id": "ZtlHwTMhI3uC"
      },
      "source": [
        "#Applying spelling correction to training dataset\n",
        "for i in range(10000):\n",
        "  train_text[i] = jsp.FixFragment(train_text[i])"
      ],
      "execution_count": 19,
      "outputs": []
    },
    {
      "cell_type": "code",
      "metadata": {
        "colab": {
          "base_uri": "https://localhost:8080/"
        },
        "id": "3wP35yCSDJnR",
        "outputId": "6fb4dee3-c9d8-4f60-bf32-cdf8537e440e"
      },
      "source": [
        "#Preprocessing\n",
        "import re \n",
        "import nltk\n",
        "nltk.download('stopwords')\n",
        "from nltk.corpus import stopwords\n",
        "from nltk.stem.porter import PorterStemmer\n",
        "corpus_train=[]\n",
        "\n",
        "for i in range(10000):\n",
        "    review = re.sub('\".*?\"', '', train_text[i]) #removing any word within quotation marks\n",
        "    review = re.sub('[^a-zA-Z]', ' ', review) #keeping only letters and removing anything else\n",
        "    review = review.lower() #converting everything to lowercase\n",
        "    review = review.split() #splitting each word in string and placing it into a list\n",
        "    # ps = PorterStemmer() #stemming\n",
        "    all_stopwords = stopwords.words('english')\n",
        "    all_stopwords.remove('not') #keeping not as it is essential for sentiment analysis\n",
        "    # review = [ps.stem(word) for word in review if not word in set(all_stopwords)]\n",
        "    review = ' '.join(review) #forming a string form a splitted list of words\n",
        "    corpus_train.append(review)"
      ],
      "execution_count": 20,
      "outputs": [
        {
          "output_type": "stream",
          "text": [
            "[nltk_data] Downloading package stopwords to /root/nltk_data...\n",
            "[nltk_data]   Package stopwords is already up-to-date!\n"
          ],
          "name": "stdout"
        }
      ]
    },
    {
      "cell_type": "code",
      "metadata": {
        "colab": {
          "base_uri": "https://localhost:8080/"
        },
        "id": "P9cLV-vNmn5w",
        "outputId": "04c15cbe-6033-4a8a-d6b2-e15be17ba2d6"
      },
      "source": [
        "len(corpus_train)"
      ],
      "execution_count": 21,
      "outputs": [
        {
          "output_type": "execute_result",
          "data": {
            "text/plain": [
              "10000"
            ]
          },
          "metadata": {
            "tags": []
          },
          "execution_count": 21
        }
      ]
    },
    {
      "cell_type": "code",
      "metadata": {
        "id": "3AhLOasbjTkt"
      },
      "source": [
        "corpus_test=[]\n",
        "for i in range(2500):\n",
        "    review2 = re.sub('\".*?\"', '', test_text[i]) #removing any word within quotation marks\n",
        "    review2 = re.sub('[^a-zA-Z]', ' ', review2) #keeping only letters and removing anything else\n",
        "    review2 = review2.lower() #converting everything to lowercase\n",
        "    review2 = review2.split() #splitting each word in string and placing it into a list\n",
        "    # ps = PorterStemmer() #stemming\n",
        "    all_stopwords = stopwords.words('english')\n",
        "    all_stopwords.remove('not') #keeping not as it is essential for sentiment analysis\n",
        "    # review2 = [ps.stem(word) for word in review2 if not word in set(all_stopwords)]\n",
        "    review2 = ' '.join(review2) #forming a string form a splitted list of words\n",
        "    corpus_test.append(review2)"
      ],
      "execution_count": 22,
      "outputs": []
    },
    {
      "cell_type": "code",
      "metadata": {
        "colab": {
          "base_uri": "https://localhost:8080/"
        },
        "id": "GlmlykMojtTp",
        "outputId": "92591c61-910e-4a60-8203-51ac87a3508c"
      },
      "source": [
        "print(corpus_test[0])"
      ],
      "execution_count": 23,
      "outputs": [
        {
          "output_type": "stream",
          "text": [
            "uhhhhh when i first heard this album it was garbage now im in to hip hop like krs one tribe called quest kweli but this album is completely lacking tight lyrics or beats please dont buy this album unless you are collecting lol\n"
          ],
          "name": "stdout"
        }
      ]
    },
    {
      "cell_type": "code",
      "metadata": {
        "colab": {
          "base_uri": "https://localhost:8080/"
        },
        "id": "KitkXJKTDJnR",
        "outputId": "1a206b79-b470-4a6f-fc50-00c83cb9d09a"
      },
      "source": [
        "print(corpus_train[0])"
      ],
      "execution_count": 24,
      "outputs": [
        {
          "output_type": "stream",
          "text": [
            "informative lee strobel presented a compelling case for the historical and logical foundation of christianity\n"
          ],
          "name": "stdout"
        }
      ]
    },
    {
      "cell_type": "code",
      "metadata": {
        "id": "8vtbuiO5DJnX"
      },
      "source": [
        "#Vectorizing \n",
        "from sklearn.feature_extraction.text import TfidfVectorizer\n",
        "cv = TfidfVectorizer(use_idf=False, norm=None, ngram_range=(1, 2),min_df=1,max_df=0.5)\n",
        "X = cv.fit_transform(corpus_train)\n",
        "y = train_label[0:10000]"
      ],
      "execution_count": 25,
      "outputs": []
    },
    {
      "cell_type": "code",
      "metadata": {
        "id": "JfDzRSW8DJnY"
      },
      "source": [
        "#Setting up our X_train, X_val, y_train, y_val \n",
        "from sklearn.model_selection import train_test_split\n",
        "X_train, X_val, y_train, y_val = train_test_split(X, y, test_size = 0.25, random_state = 0)"
      ],
      "execution_count": 26,
      "outputs": []
    },
    {
      "cell_type": "code",
      "metadata": {
        "id": "dNW_4dDHDJnY"
      },
      "source": [
        "#importing essential libraries\n",
        "from sklearn.linear_model import LogisticRegression,SGDClassifier\n",
        "from sklearn.metrics import classification_report,confusion_matrix, accuracy_score,f1_score\n",
        "from sklearn.ensemble import RandomForestClassifier, VotingClassifier\n",
        "from sklearn.naive_bayes import GaussianNB\n",
        "from sklearn.model_selection import cross_val_score\n",
        "from sklearn.svm import SVC\n",
        "from sklearn.ensemble import BaggingClassifier, AdaBoostClassifier\n",
        "from sklearn.tree import DecisionTreeClassifier"
      ],
      "execution_count": 27,
      "outputs": []
    },
    {
      "cell_type": "code",
      "metadata": {
        "id": "_xZ4xGxVOEEF"
      },
      "source": [
        "#First model for ensemble\n",
        "clf1 = RandomForestClassifier(n_estimators = 100, random_state = 9)"
      ],
      "execution_count": 28,
      "outputs": []
    },
    {
      "cell_type": "code",
      "metadata": {
        "id": "3BoIgjdgRPdC"
      },
      "source": [
        "#Second model for ensemble\n",
        "clf2 = BaggingClassifier(LogisticRegression(max_iter = 10000), max_samples = 0.4, max_features = 1.0,n_estimators = 5, random_state = 2)"
      ],
      "execution_count": 29,
      "outputs": []
    },
    {
      "cell_type": "code",
      "metadata": {
        "id": "2WPRwC-NOAhP"
      },
      "source": [
        "#Third model for ensemble\n",
        "clf3=SVC(kernel='rbf', probability=False, degree = 2, random_state = 3, C = 3)"
      ],
      "execution_count": 30,
      "outputs": []
    },
    {
      "cell_type": "code",
      "metadata": {
        "id": "A-eSP1_uOPVY"
      },
      "source": [
        "#Fourth model for ensemble\n",
        "clf4 = DecisionTreeClassifier()"
      ],
      "execution_count": 31,
      "outputs": []
    },
    {
      "cell_type": "code",
      "metadata": {
        "id": "QH8dyKvMOW5g"
      },
      "source": [
        "#Using Voting Classifier for ensemble learning\n",
        "eclf1 = VotingClassifier(estimators=[('rf',clf1), ('sgd', clf2), ('svm', clf3), ('dt',clf4)], voting='hard')\n",
        "eclf1 = eclf1.fit(X_train, y_train)"
      ],
      "execution_count": 32,
      "outputs": []
    },
    {
      "cell_type": "code",
      "metadata": {
        "colab": {
          "base_uri": "https://localhost:8080/"
        },
        "id": "sOYcN2ToO2Rp",
        "outputId": "ee31840a-5a6e-48a3-b642-f69d96353c1b"
      },
      "source": [
        "#Results Validation\n",
        "print(eclf1.score(X_train,y_train))\n",
        "y_pr = eclf1.predict(X_val)\n",
        "acc=accuracy_score(y_val,y_pr)\n",
        "f1score=f1_score(y_val,y_pr,average='macro')\n",
        "print(\"Accuracy:\",acc)\n",
        "print(\"f1 Score:\",f1score)\n",
        "print(classification_report(y_val,y_pr))"
      ],
      "execution_count": 33,
      "outputs": [
        {
          "output_type": "stream",
          "text": [
            "1.0\n",
            "Accuracy: 0.8628\n",
            "f1 Score: 0.8627962900116819\n",
            "              precision    recall  f1-score   support\n",
            "\n",
            "           0       0.83      0.90      0.86      1199\n",
            "           1       0.90      0.82      0.86      1301\n",
            "\n",
            "    accuracy                           0.86      2500\n",
            "   macro avg       0.86      0.86      0.86      2500\n",
            "weighted avg       0.87      0.86      0.86      2500\n",
            "\n"
          ],
          "name": "stdout"
        }
      ]
    },
    {
      "cell_type": "code",
      "metadata": {
        "id": "pPz_GAvcj3CM"
      },
      "source": [
        "from sklearn.feature_extraction.text import TfidfVectorizer\n",
        "\n",
        "cv = TfidfVectorizer(use_idf=False, norm=None, ngram_range=(1, 2),min_df=1,max_df=0.5)\n",
        "\n",
        "train_vector=cv.fit_transform(corpus_train)\n",
        "test_vector=cv.transform(corpus_test)\n"
      ],
      "execution_count": 34,
      "outputs": []
    },
    {
      "cell_type": "code",
      "metadata": {
        "colab": {
          "base_uri": "https://localhost:8080/"
        },
        "id": "z4aLX1GGkFYN",
        "outputId": "b7984934-4048-4cc9-d786-d28251116c00"
      },
      "source": [
        "from sklearn.linear_model import LogisticRegression\n",
        "from sklearn.metrics import accuracy_score\n",
        "from sklearn.metrics import f1_score\n",
        "from sklearn.metrics import classification_report\n",
        "\n",
        "xTrain=train_vector\n",
        "yTrain=train_label\n",
        "xTest=test_vector\n",
        "yTest=test_label\n",
        "# xTrain.shape\n",
        "print(len(yTrain))"
      ],
      "execution_count": 35,
      "outputs": [
        {
          "output_type": "stream",
          "text": [
            "10000\n"
          ],
          "name": "stdout"
        }
      ]
    },
    {
      "cell_type": "code",
      "metadata": {
        "id": "otS3liIartpJ"
      },
      "source": [
        "eclf2 = VotingClassifier(estimators=[('rf',clf1), ('sgd', clf2), ('svm', clf3), ('dt',clf4)], voting='hard')\n",
        "eclf2 = eclf2.fit(xTrain, yTrain)"
      ],
      "execution_count": 36,
      "outputs": []
    },
    {
      "cell_type": "code",
      "metadata": {
        "colab": {
          "base_uri": "https://localhost:8080/"
        },
        "id": "NVL1_LqJr7KN",
        "outputId": "ff75a9f3-7088-4973-c1a9-0764b65a09d8"
      },
      "source": [
        "#Results testing\n",
        "print(eclf2.score(xTrain,yTrain))\n",
        "y_pred = eclf2.predict(xTest)\n",
        "acc=accuracy_score(yTest,y_pred)\n",
        "f1score=f1_score(yTest,y_pred,average='macro')\n",
        "print(\"Accuracy:\",acc)\n",
        "print(\"f1 Score:\",f1score)\n",
        "print(classification_report(yTest,y_pred))"
      ],
      "execution_count": 38,
      "outputs": [
        {
          "output_type": "stream",
          "text": [
            "0.9998\n",
            "Accuracy: 0.8632\n",
            "f1 Score: 0.8628404444547115\n",
            "              precision    recall  f1-score   support\n",
            "\n",
            "           0       0.85      0.89      0.87      1281\n",
            "           1       0.88      0.83      0.86      1219\n",
            "\n",
            "    accuracy                           0.86      2500\n",
            "   macro avg       0.86      0.86      0.86      2500\n",
            "weighted avg       0.86      0.86      0.86      2500\n",
            "\n"
          ],
          "name": "stdout"
        }
      ]
    },
    {
      "cell_type": "code",
      "metadata": {
        "id": "U9zRsGI5DJne"
      },
      "source": [
        "#Confusion Matrix\n",
        "from sklearn.metrics import ConfusionMatrixDisplay, confusion_matrix\n",
        "\n",
        "conmat = np.array(confusion_matrix(yTest, y_pred, labels=[1,0]))\n",
        "confusion = pd.DataFrame(conmat, index=['True Positive', 'True Negative'],\n",
        "                         columns=['Predicted Positive','Predicted Negative'])\n"
      ],
      "execution_count": 39,
      "outputs": []
    },
    {
      "cell_type": "code",
      "metadata": {
        "colab": {
          "base_uri": "https://localhost:8080/",
          "height": 435
        },
        "id": "uipAswbwkPRP",
        "outputId": "34ebed04-e5cf-4eb4-dd3f-f743d486d919"
      },
      "source": [
        "#Plotting the confusion matrix\n",
        "import seaborn as sn\n",
        "import pandas as pd\n",
        "import matplotlib.pyplot as plt\n",
        "\n",
        "plt.figure(figsize = (10,7))\n",
        "sn.set(font_scale=1.3)\n",
        "sn.heatmap(confusion, annot=True, annot_kws={\"size\": 16},fmt='g',cmap='Blues')\n",
        "plt.show()"
      ],
      "execution_count": 40,
      "outputs": [
        {
          "output_type": "display_data",
          "data": {
            "image/png": "[encoded data removed]",
            "text/plain": [
              "<Figure size 720x504 with 2 Axes>"
            ]
          },
          "metadata": {
            "tags": [],
            "needs_background": "light"
          }
        }
      ]
    }
  ]
}